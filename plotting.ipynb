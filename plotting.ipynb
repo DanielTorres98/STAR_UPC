{
 "cells": [
  {
   "cell_type": "code",
   "execution_count": 26,
   "metadata": {},
   "outputs": [],
   "source": [
    "import uproot\n",
    "import matplotlib.pyplot as plt\n",
    "import numpy as np"
   ]
  },
  {
   "cell_type": "code",
   "execution_count": 2,
   "metadata": {},
   "outputs": [],
   "source": [
    "# Open the ROOT file\n",
    "root_file = uproot.open(\"UpcOutput.root\")"
   ]
  },
  {
   "cell_type": "code",
   "execution_count": 24,
   "metadata": {},
   "outputs": [],
   "source": [
    "plot_names = [\"hRhoMass\", \"hRhoMass_20_40\", \"hRhoMass_40_60\", \"hRhoMass_60_80\",\n",
    "        \"hRhoMass_80_100\", \"hRhoMass_100_150\", \"hRhoMass_150_200\", \"hRhoMass_200_1000\"]"
   ]
  },
  {
   "cell_type": "code",
   "execution_count": 29,
   "metadata": {},
   "outputs": [
    {
     "data": {
      "text/plain": [
       "['fitFunc;1',\n",
       " 'hdEdxVsP;1',\n",
       " 'hMassVsPt;1',\n",
       " 'hPxPy;1',\n",
       " 'hTofVsP;1',\n",
       " 'hXpionXkaon;1',\n",
       " 'hXpionXee;1',\n",
       " 'hXpionXpp;1',\n",
       " 'hCos2phivsPT;1',\n",
       " 'hCos2phivsY;1',\n",
       " 'hRhoMass;1',\n",
       " 'hRhoMass_0_20;1',\n",
       " 'hRhoMass_20_40;1',\n",
       " 'hRhoMass_40_60;1',\n",
       " 'hRhoMass_60_80;1',\n",
       " 'hRhoMass_80_100;1',\n",
       " 'hRhoMass_100_150;1',\n",
       " 'hRhoMass_150_200;1',\n",
       " 'hRhoMass_200_1000;1',\n",
       " 'hRhoMass_NoCut;1',\n",
       " 'hRhoTP;1',\n",
       " 'hDDTOF;1',\n",
       " 'hDeltaPhi;1',\n",
       " 'hcosphi;1',\n",
       " 'hPhipPPhim;1',\n",
       " 'hPhipMPhim;1',\n",
       " 'hPhip;1',\n",
       " 'hPhim;1',\n",
       " 'hphi;1',\n",
       " 'hCos2phi;1',\n",
       " 'hCos2phivsPT_pfx;1']"
      ]
     },
     "execution_count": 29,
     "metadata": {},
     "output_type": "execute_result"
    }
   ],
   "source": [
    "root_file.keys()"
   ]
  },
  {
   "cell_type": "code",
   "execution_count": 32,
   "metadata": {},
   "outputs": [
    {
     "data": {
      "text/plain": [
       "(array([[ 0.,  0.,  0.,  0.,  0.,  0.,  0.,  0.,  0.,  0.],\n",
       "        [10., 10., 10., 10., 10., 10., 10., 10., 11., 10.]]),\n",
       " array([0.6 , 0.63, 0.66, 0.69, 0.72, 0.75, 0.78, 0.81, 0.84, 0.87, 0.9 ]),\n",
       " <a list of 2 BarContainer objects>)"
      ]
     },
     "execution_count": 32,
     "metadata": {},
     "output_type": "execute_result"
    },
    {
     "data": {
      "image/png": "[encoded data removed]",
      "text/plain": [
       "<Figure size 640x480 with 1 Axes>"
      ]
     },
     "metadata": {},
     "output_type": "display_data"
    }
   ],
   "source": [
    "plt.hist(root_file[plot_names[4]], bins=100, range=(0.6, 0.9))"
   ]
  },
  {
   "cell_type": "code",
   "execution_count": 28,
   "metadata": {},
   "outputs": [
    {
     "ename": "AttributeError",
     "evalue": "'numpy.ndarray' object has no attribute 'values'",
     "output_type": "error",
     "traceback": [
      "\u001b[0;31m---------------------------------------------------------------------------\u001b[0m",
      "\u001b[0;31mAttributeError\u001b[0m                            Traceback (most recent call last)",
      "Cell \u001b[0;32mIn[28], line 1\u001b[0m\n\u001b[0;32m----> 1\u001b[0m np\u001b[39m.\u001b[39;49marray(root_file[plot_names[\u001b[39m0\u001b[39;49m]])\u001b[39m.\u001b[39;49mvalues\n",
      "\u001b[0;31mAttributeError\u001b[0m: 'numpy.ndarray' object has no attribute 'values'"
     ]
    }
   ],
   "source": [
    "np.array(root_file[plot_names[0]]).values"
   ]
  },
  {
   "cell_type": "code",
   "execution_count": null,
   "metadata": {},
   "outputs": [],
   "source": []
  }
 ],
 "metadata": {
  "kernelspec": {
   "display_name": "root_env",
   "language": "python",
   "name": "python3"
  },
  "language_info": {
   "codemirror_mode": {
    "name": "ipython",
    "version": 3
   },
   "file_extension": ".py",
   "mimetype": "text/x-python",
   "name": "python",
   "nbconvert_exporter": "python",
   "pygments_lexer": "ipython3",
   "version": "3.11.3"
  },
  "orig_nbformat": 4
 },
 "nbformat": 4,
 "nbformat_minor": 2
}
